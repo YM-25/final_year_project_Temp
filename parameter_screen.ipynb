{
 "cells": [
  {
   "cell_type": "code",
   "execution_count": 121,
   "metadata": {},
   "outputs": [
    {
     "name": "stdout",
     "output_type": "stream",
     "text": [
      "Period of the oscillator: 20.100550000000002 a.u.\n",
      "Total parameter deviation: 4.981862459507552\n"
     ]
    }
   ],
   "source": [
    "import gillespy2\n",
    "import numpy as np\n",
    "import matplotlib.pyplot as plt\n",
    "from scipy.signal import find_peaks\n",
    "import pandas as pd\n",
    "\n",
    "# Parameters used in the provided model\n",
    "parameters_used = {\n",
    "    'alphaA': 50,\n",
    "    'alphaA_prime': 500,\n",
    "    'alphaR': 0.01,\n",
    "    'alphaR_prime': 50,\n",
    "    'betaA': 50,\n",
    "    'betaR': 5,\n",
    "    'deltaMA': 10,\n",
    "    'deltaMR': 0.5,\n",
    "    'deltaA': 1,\n",
    "    'deltaR': 0.2,\n",
    "    'gammaA': 1,\n",
    "    'gammaR': 1,\n",
    "    'gammaC': 2,\n",
    "    'thetaA': 50,\n",
    "    'thetaR': 100\n",
    "}\n",
    "\n",
    "# Function to generate random parameters based on normal distribution\n",
    "def generate_random_parameters(parameters_used, num_samples=1, std_dev=0.2):\n",
    "    random_parameters = {}\n",
    "    for parameter, value in parameters_used.items():\n",
    "        # Calculate mean and standard deviation for the normal distribution\n",
    "        mean = np.log10(value)\n",
    "        std = abs(std_dev * mean)\n",
    "        \n",
    "        random_samples = np.random.normal(mean, std, num_samples)\n",
    "        \n",
    "        # Ensure generated parameters are positive\n",
    "        random_samples = np.clip(random_samples, a_min=np.log10(1e-10), a_max=None)\n",
    "        \n",
    "        # Convert back to linear scale and string format\n",
    "        random_parameters[parameter] = str(10 ** random_samples[0])\n",
    "    \n",
    "    return random_parameters\n",
    "\n",
    "random_parameters = generate_random_parameters(parameters_used)\n",
    "\n",
    "# Hysteresis model from Kut 2009/from Vilar 2002\n",
    "def create_vilar_oscillator(alphaA, alphaA_prime, alphaR, alphaR_prime, betaA, betaR, deltaMA, deltaMR, deltaA, deltaR, gammaA, gammaR, gammaC, thetaA, thetaR):\n",
    "    # Initialize Model\n",
    "    model = gillespy2.Model(name=\"VilarOscillator\")\n",
    "    \n",
    "    # Set System Volume\n",
    "    model.volume = 1\n",
    "\n",
    "    # Define Variables (GillesPy2.Species)\n",
    "    Da = gillespy2.Species(name=\"Da\", initial_value=1, mode=\"discrete\")\n",
    "    Da_prime = gillespy2.Species(name=\"Da_prime\", initial_value=0, mode=\"discrete\")\n",
    "    Ma = gillespy2.Species(name=\"Ma\", initial_value=0, mode=\"discrete\")\n",
    "    Dr = gillespy2.Species(name=\"Dr\", initial_value=1, mode=\"discrete\")\n",
    "    Dr_prime = gillespy2.Species(name=\"Dr_prime\", initial_value=0, mode=\"discrete\")\n",
    "    Mr = gillespy2.Species(name=\"Mr\", initial_value=0, mode=\"discrete\")\n",
    "    C = gillespy2.Species(name=\"C\", initial_value=0, mode=\"discrete\")\n",
    "    A = gillespy2.Species(name=\"A\", initial_value=0, mode=\"discrete\")\n",
    "    R = gillespy2.Species(name=\"R\", initial_value=0, mode=\"discrete\")\n",
    "\n",
    "    # Add Variables to Model\n",
    "    model.add_species([Da, Da_prime, Ma, Dr, Dr_prime, Mr, C, A, R])\n",
    "\n",
    "    # Define Parameters\n",
    "    model.add_parameter([gillespy2.Parameter(name=\"alphaA\", expression=str(alphaA)),\n",
    "                         gillespy2.Parameter(name=\"alphaA_prime\", expression=str(alphaA_prime)),\n",
    "                         gillespy2.Parameter(name=\"alphaR\", expression=str(alphaR)),\n",
    "                         gillespy2.Parameter(name=\"alphaR_prime\", expression=str(alphaR_prime)),\n",
    "                         gillespy2.Parameter(name=\"betaA\", expression=str(betaA)),\n",
    "                         gillespy2.Parameter(name=\"betaR\", expression=str(betaR)),\n",
    "                         gillespy2.Parameter(name=\"deltaMA\", expression=str(deltaMA)),\n",
    "                         gillespy2.Parameter(name=\"deltaMR\", expression=str(deltaMR)),\n",
    "                         gillespy2.Parameter(name=\"deltaA\", expression=str(deltaA)),\n",
    "                         gillespy2.Parameter(name=\"deltaR\", expression=str(deltaR)),\n",
    "                         gillespy2.Parameter(name=\"gammaA\", expression=str(gammaA)),\n",
    "                         gillespy2.Parameter(name=\"gammaR\", expression=str(gammaR)),\n",
    "                         gillespy2.Parameter(name=\"gammaC\", expression=str(gammaC)),\n",
    "                         gillespy2.Parameter(name=\"thetaA\", expression=str(thetaA)),\n",
    "                         gillespy2.Parameter(name=\"thetaR\", expression=str(thetaR))])\n",
    "\n",
    "    # Define Reactions\n",
    "    #bound and unbound of DA/DR\n",
    "    r1 = gillespy2.Reaction(name=\"r1\", reactants={'A': 1, 'Da': 1}, products={'Da_prime': 1}, rate=\"gammaA\")\n",
    "    r2 = gillespy2.Reaction(name=\"r2\", reactants={'Da_prime': 1}, products={'A': 1, 'Da': 1}, rate=\"thetaA\")\n",
    "    r3 = gillespy2.Reaction(name=\"r3\", reactants={'A': 1, 'Dr': 1}, products={'Dr_prime': 1}, rate=\"gammaR\")\n",
    "    r4 = gillespy2.Reaction(name=\"r4\", reactants={'Dr_prime': 1}, products={'A': 1, 'Dr': 1}, rate=\"thetaR\")\n",
    "    #transcription\n",
    "    r5 = gillespy2.Reaction(name=\"r5\", reactants={'Da': 1}, products={'Da': 1, 'Ma': 1}, rate=\"alphaA\")\n",
    "    r6 = gillespy2.Reaction(name=\"r6\", reactants={'Da_prime': 1}, products={'Da_prime': 1, 'Ma': 1}, rate=\"alphaA_prime\")\n",
    "    r7 = gillespy2.Reaction(name=\"r7\", reactants={'Dr': 1}, products={'Dr': 1, 'Mr': 1}, rate=\"alphaR\")\n",
    "    r8 = gillespy2.Reaction(name=\"r8\", reactants={'Dr_prime': 1}, products={'Dr_prime': 1, 'Mr': 1}, rate=\"alphaR_prime\")\n",
    "    #translation\n",
    "    r9 = gillespy2.Reaction(name=\"r9\", reactants={'Ma': 1}, products={'A': 1, 'Ma': 1}, rate=\"betaA\")\n",
    "    r10 = gillespy2.Reaction(name=\"r10\", reactants={'Mr': 1}, products={'Mr': 1, 'R': 1}, rate=\"betaR\")    \n",
    "    #complex formation\n",
    "    r11 = gillespy2.Reaction(name=\"r11\", reactants={'A': 1, 'R': 1}, products={'C': 1}, rate=\"gammaC\")\n",
    "    #degradation\n",
    "    r12 = gillespy2.Reaction(name=\"r12\", reactants={'A': 1}, products={}, rate=\"deltaA\")\n",
    "    r13 = gillespy2.Reaction(name=\"r13\", reactants={'C': 1}, products={'R': 1}, rate=\"deltaA\")\n",
    "    r14 = gillespy2.Reaction(name=\"r14\", reactants={'R': 1}, products={}, rate=\"deltaR\")\n",
    "    r15 = gillespy2.Reaction(name=\"r15\", reactants={'Ma': 1}, products={}, rate=\"deltaMA\")    \n",
    "    r16 = gillespy2.Reaction(name=\"r16\", reactants={'Mr': 1}, products={}, rate=\"deltaMR\")\n",
    "\n",
    "    # Add Reactions to Model\n",
    "    model.add_reaction([r1, r2, r3, r4, r5, r6, r7, r8, r9, r10, r11, r12, r13, r14, r15, r16])\n",
    "\n",
    "    # Define Timespan\n",
    "    tspan = gillespy2.TimeSpan.linspace(t=400, num_points=200)\n",
    "    \n",
    "    # Set Model Timespan\n",
    "    model.timespan(tspan)\n",
    "    return model\n",
    "\n",
    "# Create the model using random parameters\n",
    "model = create_vilar_oscillator(**random_parameters)\n",
    "ode_results = model.run(algorithm=\"ODE\")\n"
   ]
  },
  {
   "cell_type": "code",
   "execution_count": 122,
   "metadata": {},
   "outputs": [
    {
     "name": "stdout",
     "output_type": "stream",
     "text": [
      "Period of the oscillator: 20.100550000000002 a.u.\n"
     ]
    }
   ],
   "source": [
    "# Calculate period from the time series data for one species (e.g., 'A')\n",
    "species = 'A'\n",
    "# Extract time series data\n",
    "time_series = ode_results[0]['time']\n",
    "concentration_series = ode_results[0][species]\n",
    "\n",
    "# Find peaks in concentration series\n",
    "peaks, _ = find_peaks(concentration_series, height=0)\n",
    "\n",
    "# Compute period as the average time difference between consecutive peaks\n",
    "period_lengths = np.diff(time_series[peaks])\n",
    "period = np.mean(period_lengths)\n",
    "\n",
    "print(\"Period of the oscillator:\", period, \"a.u.\")\n"
   ]
  },
  {
   "cell_type": "code",
   "execution_count": 123,
   "metadata": {},
   "outputs": [
    {
     "name": "stdout",
     "output_type": "stream",
     "text": [
      "Total parameter deviation: 4.981862459507552\n"
     ]
    }
   ],
   "source": [
    "# calculate deviation of genarated random variable from the original parameter used\n",
    "def calculate_parameter_deviation(original_parameters, random_parameters):\n",
    "    deviations = {}\n",
    "    for parameter, original_value in original_parameters.items():\n",
    "        random_value = float(random_parameters[parameter])\n",
    "        deviation = abs(random_value - original_value) / original_value\n",
    "        deviations[parameter] = deviation\n",
    "    return deviations\n",
    "\n",
    "# Calculate parameter deviations\n",
    "parameter_deviations = calculate_parameter_deviation(parameters_used, random_parameters)\n",
    "\n",
    "# Calculate total parameter deviation\n",
    "total_deviation = sum(parameter_deviations.values())\n",
    "print(\"Total parameter deviation:\", total_deviation)\n"
   ]
  },
  {
   "cell_type": "code",
   "execution_count": 126,
   "metadata": {},
   "outputs": [
    {
     "data": {
      "image/png": "[encoded data removed]",
      "text/plain": [
       "<Figure size 800x600 with 1 Axes>"
      ]
     },
     "metadata": {},
     "output_type": "display_data"
    }
   ],
   "source": [
    "# List to store period and parameter deviations\n",
    "periods = []\n",
    "total_deviations = []\n",
    "\n",
    "# Iterate over randomly generated parameters\n",
    "for i in range(10):\n",
    "    random_parameters = generate_random_parameters(parameters_used)\n",
    "    model = create_vilar_oscillator(**random_parameters)\n",
    "    ode_results = model.run(algorithm=\"ODE\")\n",
    "    time_series = ode_results[0]['time']\n",
    "    concentration_series = ode_results[0][species]\n",
    "    \n",
    "    # Calculate period\n",
    "    peaks, _ = find_peaks(concentration_series, height=0)\n",
    "    period_lengths = np.diff(time_series[peaks])\n",
    "    period = np.mean(period_lengths)\n",
    "    \n",
    "    # Calculate total parameter deviation\n",
    "    parameter_deviations = calculate_parameter_deviation(parameters_used, random_parameters)\n",
    "    total_deviation = sum(parameter_deviations.values())\n",
    "    \n",
    "    # Append to lists\n",
    "    periods.append(period)\n",
    "    total_deviations.append(total_deviation)\n",
    "\n",
    "# Plot scatter plot\n",
    "plt.figure(figsize=(8, 6))\n",
    "plt.scatter(total_deviations, periods, color='blue', alpha=0.7)\n",
    "plt.title('Period vs Parameter Deviation')\n",
    "plt.xlabel('Total Parameter Deviation')\n",
    "plt.ylabel('Period')\n",
    "plt.grid(True)\n",
    "plt.show()\n"
   ]
  }
 ],
 "metadata": {
  "kernelspec": {
   "display_name": "Python 3",
   "language": "python",
   "name": "python3"
  },
  "language_info": {
   "codemirror_mode": {
    "name": "ipython",
    "version": 3
   },
   "file_extension": ".py",
   "mimetype": "text/x-python",
   "name": "python",
   "nbconvert_exporter": "python",
   "pygments_lexer": "ipython3",
   "version": "3.11.9"
  }
 },
 "nbformat": 4,
 "nbformat_minor": 2
}
